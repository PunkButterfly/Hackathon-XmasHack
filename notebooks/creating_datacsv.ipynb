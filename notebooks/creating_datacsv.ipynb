{
  "nbformat": 4,
  "nbformat_minor": 0,
  "metadata": {
    "colab": {
      "provenance": []
    },
    "kernelspec": {
      "name": "python3",
      "display_name": "Python 3"
    },
    "language_info": {
      "name": "python"
    }
  },
  "cells": [
    {
      "cell_type": "code",
      "source": [
        "%%capture\n",
        "!pip install python-docx\n",
        "!pip install PyPDF2\n",
        "!pip install aspose-words"
      ],
      "metadata": {
        "id": "5aEJM6xdfLda"
      },
      "execution_count": 1,
      "outputs": []
    },
    {
      "cell_type": "code",
      "source": [
        "from __future__ import annotations\n",
        "import os\n",
        "import PyPDF2\n",
        "from PyPDF2 import PdfFileReader\n",
        "import docx\n",
        "import pandas as pd\n",
        "import numpy as np\n",
        "import json\n",
        "import aspose.words as aw\n",
        "import traceback\n",
        "import re\n",
        "\n",
        "\n",
        "print('docx version:', docx.__version__)\n",
        "print('PyPDF2 version:',PyPDF2.__version__)"
      ],
      "metadata": {
        "colab": {
          "base_uri": "https://localhost:8080/"
        },
        "id": "qwjNvNz-8AHE",
        "outputId": "22bd3fd7-bf9a-4966-bfa4-a1251a8824e2"
      },
      "execution_count": 2,
      "outputs": [
        {
          "output_type": "stream",
          "name": "stdout",
          "text": [
            "docx version: 0.8.11\n",
            "PyPDF2 version: 2.12.1\n"
          ]
        }
      ]
    },
    {
      "cell_type": "markdown",
      "source": [
        "# Load data"
      ],
      "metadata": {
        "id": "9NF48Y9EgKAa"
      }
    },
    {
      "cell_type": "code",
      "source": [
        "import gdown\n",
        "\n",
        "url = 'https://drive.google.com/file/d/1_E3GLMkbboLZcUPVfQHw99RWU11znbAq/view?usp=share_link'\n",
        "file_name = 'data'\n",
        "gdown.download(url, file_name, fuzzy=True)"
      ],
      "metadata": {
        "colab": {
          "base_uri": "https://localhost:8080/",
          "height": 105
        },
        "id": "LM1a2kyyot7f",
        "outputId": "cdb610e8-ed26-4a5e-bf20-c71fb3a0d809"
      },
      "execution_count": 3,
      "outputs": [
        {
          "output_type": "stream",
          "name": "stderr",
          "text": [
            "Downloading...\n",
            "From: https://drive.google.com/uc?id=1_E3GLMkbboLZcUPVfQHw99RWU11znbAq\n",
            "To: /content/data\n",
            "100%|██████████| 9.68M/9.68M [00:00<00:00, 43.9MB/s]\n"
          ]
        },
        {
          "output_type": "execute_result",
          "data": {
            "text/plain": [
              "'data'"
            ],
            "application/vnd.google.colaboratory.intrinsic+json": {
              "type": "string"
            }
          },
          "metadata": {},
          "execution_count": 3
        }
      ]
    },
    {
      "cell_type": "code",
      "source": [
        "%%capture\n",
        "!unzip '/content/data' -d '/content/data_dir'"
      ],
      "metadata": {
        "id": "yuckdJ2XpXCu"
      },
      "execution_count": 4,
      "outputs": []
    },
    {
      "cell_type": "code",
      "source": [
        "data_dir = '/content/data_dir/hacka-aka-embedika-2/docs'\n",
        "json_path = '/content/data_dir/hacka-aka-embedika-2/classes.json'\n",
        "\n",
        "converted_docx_dir = 'converted_docx'\n",
        "filenames = os.listdir(data_dir)"
      ],
      "metadata": {
        "id": "3CTqvkySf1E-"
      },
      "execution_count": 5,
      "outputs": []
    },
    {
      "cell_type": "code",
      "source": [
        "with open(json_path) as json_file:\n",
        "    label_dict = json.load(json_file)"
      ],
      "metadata": {
        "id": "bTR6WJpRLK6v"
      },
      "execution_count": 6,
      "outputs": []
    },
    {
      "cell_type": "code",
      "source": [
        "def init_file_paths(data_dir_path: str) -> tuple[list[tuple[str,str]],\n",
        "                                                 list[tuple[str,str]],\n",
        "                                                 list[tuple[str,str]],\n",
        "                                                 list[tuple[str,str]]]:\n",
        "    '''\n",
        "        Создаем списоки кортежей (полный путь, имя файла) для каждого расширения файла\n",
        "    '''\n",
        "    doc_file_paths = []\n",
        "    docx_file_paths = []\n",
        "    pdf_file_paths = []\n",
        "    rtf_file_paths = []\n",
        "    for filename in os.listdir(data_dir_path):\n",
        "        if filename.endswith('.docx', -5):\n",
        "            docx_file_paths.append((os.path.join(data_dir_path,filename), filename))\n",
        "        elif filename.endswith('.pdf', -5):\n",
        "            pdf_file_paths.append((os.path.join(data_dir_path,filename), filename))\n",
        "        elif filename.endswith('.rtf', -5):\n",
        "            rtf_file_paths.append((os.path.join(data_dir_path,filename), filename))\n",
        "        elif filename.endswith('.doc', -5):\n",
        "            doc_file_paths.append((os.path.join(data_dir_path,filename), filename))\n",
        "    \n",
        "    print(f'Количество pdf-файлов: {len(pdf_file_paths)}')\n",
        "    print(f'Количество doc-файлов: {len(doc_file_paths)}')\n",
        "    print(f'Количество docx-файлов: {len(docx_file_paths)}')\n",
        "    print(f'Количество rtf-файлов: {len(rtf_file_paths)}')\n",
        "    \n",
        "    return doc_file_paths, docx_file_paths, pdf_file_paths, rtf_file_paths\n",
        "\n",
        "doc_file_paths, docx_file_paths, pdf_file_paths, rtf_file_paths = init_file_paths(data_dir)\n",
        "files_paths_to_docx = []\n",
        "files_paths_to_docx += doc_file_paths\n",
        "files_paths_to_docx += rtf_file_paths\n"
      ],
      "metadata": {
        "colab": {
          "base_uri": "https://localhost:8080/"
        },
        "id": "NDGtvLEwDw6i",
        "outputId": "a59f36af-0c5a-43aa-c9dd-521f2904f948"
      },
      "execution_count": 7,
      "outputs": [
        {
          "output_type": "stream",
          "name": "stdout",
          "text": [
            "Количество pdf-файлов: 13\n",
            "Количество doc-файлов: 81\n",
            "Количество docx-файлов: 22\n",
            "Количество rtf-файлов: 4\n"
          ]
        }
      ]
    },
    {
      "cell_type": "code",
      "source": [
        "def convert_doc_docx(doc_file_paths: str, converted_files_dir_path: str)->list[tuple[str,str]]:\n",
        "    '''\n",
        "        Конвертируем .doc файлы в .docx, так как python не открывает файлы .doc\n",
        "        Возвращаемые кортежи содержат правилльный полный путь к файлу, но старое расширение в имени файла\n",
        "        Новые файлы содержат в начале Evaluation Only. Created with Aspose.Words. Copyright 2003-2022 Aspose Pty Ltd.\n",
        "    '''\n",
        "    new_docx_paths = []\n",
        "    file_extension = re.compile(r'\\..*')\n",
        "    for doc_file_path, doc_file_name in doc_file_paths:\n",
        "        doc = aw.Document(doc_file_path)\n",
        "        new_docx_path = os.path.join(converted_files_dir_path, file_extension.sub(\"\", doc_file_name) + '.docx')\n",
        "        doc.save(new_docx_path)\n",
        "        new_docx_paths.append((new_docx_path, doc_file_name))\n",
        "    return new_docx_paths\n",
        "docx_file_paths += convert_doc_docx(files_paths_to_docx, converted_docx_dir)\n",
        "print(f'Количество pdf-файлов: {len(pdf_file_paths)}')\n",
        "print(f'Количество docx-файлов: {len(docx_file_paths)}')"
      ],
      "metadata": {
        "colab": {
          "base_uri": "https://localhost:8080/"
        },
        "id": "3Y_cd4A4dDpv",
        "outputId": "e83a7c60-0ebb-4356-a8f6-bedc404bef2b"
      },
      "execution_count": 8,
      "outputs": [
        {
          "output_type": "stream",
          "name": "stdout",
          "text": [
            "Количество pdf-файлов: 13\n",
            "Количество docx-файлов: 107\n"
          ]
        }
      ]
    },
    {
      "cell_type": "code",
      "source": [
        "def read_docx_file(docx_file_path: str) -> str:\n",
        "    '''\n",
        "        Открываем .docx файл и, соединяя все абзацы,\n",
        "        возращем полный текст документа\n",
        "        или None если не удалось открыть файл\n",
        "    '''\n",
        "    try:\n",
        "        doc = docx.Document(docx_file_path)\n",
        "        all_paras = doc.paragraphs\n",
        "        full_doc_text = ''\n",
        "        for para in all_paras:\n",
        "            full_doc_text = full_doc_text + '\\n' + para.text\n",
        "        return full_doc_text.replace('Evaluation Only. Created with Aspose.Words. Copyright 2003-2022 Aspose Pty Ltd.', '')\n",
        "    except:\n",
        "        print(f'Ошибка: Не удалось открыть файл: {docx_file_path}\\n {traceback.format_exc()}')\n",
        "        return None\n",
        "\n",
        "def read_pdf_file(pdf_file_path: str) -> str:\n",
        "    '''\n",
        "        Открываем .pdf файл и, соединяя все страницы,\n",
        "        возращем полный текст документа\n",
        "        или None если не удалось открыть файл\n",
        "    '''\n",
        "    try:\n",
        "        full_pdf_text = ''\n",
        "        with open(pdf_file_path, \"rb\") as filehandle:\n",
        "            pdf = PdfFileReader(filehandle)\n",
        "            num_pages = pdf.getNumPages()\n",
        "            for num in range(num_pages):\n",
        "                page = pdf.getPage(num)\n",
        "                full_pdf_text = full_pdf_text + '\\n' + page.extractText()\n",
        "        return full_pdf_text\n",
        "    except:\n",
        "        print(f'Ошибка: Не удалось открыть файл: {pdf_file_path}\\n {traceback.format_exc()}')\n",
        "        return None"
      ],
      "metadata": {
        "id": "vuW9ffVhAcyP"
      },
      "execution_count": 9,
      "outputs": []
    },
    {
      "cell_type": "code",
      "source": [
        "def get_document_text(document_file_path: str) -> str:\n",
        "    re_file_extension = re.compile(r'\\.\\w+')\n",
        "\n",
        "    file_extension = re_file_extension.findall(document_file_path)\n",
        "    if file_extension[0] == '.docx':\n",
        "        return read_docx_file(document_file_path)\n",
        "    \n",
        "    elif file_extension[0] == '.doc' or file_extension[0] == '.rtf':\n",
        "        doc = aw.Document(document_file_path)\n",
        "        new_docx_path = re_file_extension.sub('',docx_file_paths[0][0]) + '.docx'\n",
        "        doc.save(new_docx_path)\n",
        "        return read_docx_file(new_docx_path)\n",
        "\n",
        "    elif file_extension[0] == '.pdf':\n",
        "        return read_pdf_file(document_file_path)"
      ],
      "metadata": {
        "id": "ej1EoeJNck7S"
      },
      "execution_count": 10,
      "outputs": []
    },
    {
      "cell_type": "code",
      "source": [
        "def create_df(pdf_file_paths: list[str], docx_file_paths: list[tuple[str, str]], label_dict: dict[str: str]):\n",
        "    text_label_filename = []\n",
        "    for docx_file_path, docx_file_name in docx_file_paths:\n",
        "        text_label_filename.append([read_docx_file(docx_file_path),\n",
        "                                    label_dict.get(docx_file_name, None), docx_file_name])\n",
        "    for pdf_file_path, pdf_file_name in pdf_file_paths:\n",
        "        text_label_filename.append([read_pdf_file(pdf_file_path),\n",
        "                                    label_dict.get(pdf_file_name, None), pdf_file_name])\n",
        "    \n",
        "    df = pd.DataFrame(data=text_label_filename, columns=['text', 'label', 'doc_file_name'])\n",
        "    return df\n",
        "df = create_df(pdf_file_paths, docx_file_paths, label_dict)\n",
        "df.dropna(inplace=True)\n",
        "df = df.reset_index(drop=True)\n",
        "damaged_files_names = ['a2f8675b6d37b6af819ca3fdbb0e3432.pdf', '2054a58154349bc54b691666fe3f89b1.pdf']\n",
        "ind_of_damadged_data = df[df['doc_file_name'].apply(lambda x: x in damaged_files_names)].index\n",
        "df = df.drop(index = ind_of_damadged_data).reset_index(drop=True)\n",
        "df = df[df['text'].apply(lambda x: len(x.split()) > 10 )]\n",
        "df.to_csv('text_data.csv', index=False)"
      ],
      "metadata": {
        "id": "rulsSEWyEG6-",
        "colab": {
          "base_uri": "https://localhost:8080/"
        },
        "outputId": "e0c6453d-2f48-44ba-bd20-e460806ba2d8"
      },
      "execution_count": 11,
      "outputs": [
        {
          "output_type": "stream",
          "name": "stdout",
          "text": [
            "Ошибка: Не удалось открыть файл: /content/data_dir/hacka-aka-embedika-2/docs/18d573815c15b4e798bdfbfb52fb2f43.docx\n",
            " Traceback (most recent call last):\n",
            "  File \"<ipython-input-9-b112943da1f6>\", line 8, in read_docx_file\n",
            "    doc = docx.Document(docx_file_path)\n",
            "  File \"/usr/local/lib/python3.8/dist-packages/docx/api.py\", line 25, in Document\n",
            "    document_part = Package.open(docx).main_document_part\n",
            "  File \"/usr/local/lib/python3.8/dist-packages/docx/opc/package.py\", line 130, in open\n",
            "    Unmarshaller.unmarshal(pkg_reader, package, PartFactory)\n",
            "  File \"/usr/local/lib/python3.8/dist-packages/docx/opc/package.py\", line 198, in unmarshal\n",
            "    parts = Unmarshaller._unmarshal_parts(\n",
            "  File \"/usr/local/lib/python3.8/dist-packages/docx/opc/package.py\", line 215, in _unmarshal_parts\n",
            "    parts[partname] = part_factory(\n",
            "  File \"/usr/local/lib/python3.8/dist-packages/docx/opc/part.py\", line 191, in __new__\n",
            "    return PartClass.load(partname, content_type, blob, package)\n",
            "  File \"/usr/local/lib/python3.8/dist-packages/docx/opc/part.py\", line 231, in load\n",
            "    element = parse_xml(blob)\n",
            "  File \"/usr/local/lib/python3.8/dist-packages/docx/oxml/__init__.py\", line 28, in parse_xml\n",
            "    root_element = etree.fromstring(xml, oxml_parser)\n",
            "  File \"src/lxml/etree.pyx\", line 3257, in lxml.etree.fromstring\n",
            "  File \"src/lxml/parser.pxi\", line 1916, in lxml.etree._parseMemoryDocument\n",
            "  File \"src/lxml/parser.pxi\", line 1803, in lxml.etree._parseDoc\n",
            "  File \"src/lxml/parser.pxi\", line 1144, in lxml.etree._BaseParser._parseDoc\n",
            "  File \"src/lxml/parser.pxi\", line 618, in lxml.etree._ParserContext._handleParseResultDoc\n",
            "  File \"src/lxml/parser.pxi\", line 728, in lxml.etree._handleParseResult\n",
            "  File \"src/lxml/parser.pxi\", line 657, in lxml.etree._raiseParseError\n",
            "  File \"<string>\", line 1\n",
            "lxml.etree.XMLSyntaxError: Start tag expected, '<' not found, line 1, column 1\n",
            "\n",
            "Ошибка: Не удалось открыть файл: /content/data_dir/hacka-aka-embedika-2/docs/317dc2690741c169db9dc901ff5a3258.docx\n",
            " Traceback (most recent call last):\n",
            "  File \"<ipython-input-9-b112943da1f6>\", line 8, in read_docx_file\n",
            "    doc = docx.Document(docx_file_path)\n",
            "  File \"/usr/local/lib/python3.8/dist-packages/docx/api.py\", line 25, in Document\n",
            "    document_part = Package.open(docx).main_document_part\n",
            "  File \"/usr/local/lib/python3.8/dist-packages/docx/opc/package.py\", line 130, in open\n",
            "    Unmarshaller.unmarshal(pkg_reader, package, PartFactory)\n",
            "  File \"/usr/local/lib/python3.8/dist-packages/docx/opc/package.py\", line 198, in unmarshal\n",
            "    parts = Unmarshaller._unmarshal_parts(\n",
            "  File \"/usr/local/lib/python3.8/dist-packages/docx/opc/package.py\", line 215, in _unmarshal_parts\n",
            "    parts[partname] = part_factory(\n",
            "  File \"/usr/local/lib/python3.8/dist-packages/docx/opc/part.py\", line 191, in __new__\n",
            "    return PartClass.load(partname, content_type, blob, package)\n",
            "  File \"/usr/local/lib/python3.8/dist-packages/docx/opc/part.py\", line 231, in load\n",
            "    element = parse_xml(blob)\n",
            "  File \"/usr/local/lib/python3.8/dist-packages/docx/oxml/__init__.py\", line 28, in parse_xml\n",
            "    root_element = etree.fromstring(xml, oxml_parser)\n",
            "  File \"src/lxml/etree.pyx\", line 3257, in lxml.etree.fromstring\n",
            "  File \"src/lxml/parser.pxi\", line 1916, in lxml.etree._parseMemoryDocument\n",
            "  File \"src/lxml/parser.pxi\", line 1803, in lxml.etree._parseDoc\n",
            "  File \"src/lxml/parser.pxi\", line 1144, in lxml.etree._BaseParser._parseDoc\n",
            "  File \"src/lxml/parser.pxi\", line 618, in lxml.etree._ParserContext._handleParseResultDoc\n",
            "  File \"src/lxml/parser.pxi\", line 728, in lxml.etree._handleParseResult\n",
            "  File \"src/lxml/parser.pxi\", line 657, in lxml.etree._raiseParseError\n",
            "  File \"<string>\", line 1\n",
            "lxml.etree.XMLSyntaxError: Start tag expected, '<' not found, line 1, column 1\n",
            "\n",
            "Ошибка: Не удалось открыть файл: /content/data_dir/hacka-aka-embedika-2/docs/b303afea664ed05cdbc73a8c3b31b09d.docx\n",
            " Traceback (most recent call last):\n",
            "  File \"<ipython-input-9-b112943da1f6>\", line 8, in read_docx_file\n",
            "    doc = docx.Document(docx_file_path)\n",
            "  File \"/usr/local/lib/python3.8/dist-packages/docx/api.py\", line 25, in Document\n",
            "    document_part = Package.open(docx).main_document_part\n",
            "  File \"/usr/local/lib/python3.8/dist-packages/docx/opc/package.py\", line 130, in open\n",
            "    Unmarshaller.unmarshal(pkg_reader, package, PartFactory)\n",
            "  File \"/usr/local/lib/python3.8/dist-packages/docx/opc/package.py\", line 198, in unmarshal\n",
            "    parts = Unmarshaller._unmarshal_parts(\n",
            "  File \"/usr/local/lib/python3.8/dist-packages/docx/opc/package.py\", line 215, in _unmarshal_parts\n",
            "    parts[partname] = part_factory(\n",
            "  File \"/usr/local/lib/python3.8/dist-packages/docx/opc/part.py\", line 191, in __new__\n",
            "    return PartClass.load(partname, content_type, blob, package)\n",
            "  File \"/usr/local/lib/python3.8/dist-packages/docx/opc/part.py\", line 231, in load\n",
            "    element = parse_xml(blob)\n",
            "  File \"/usr/local/lib/python3.8/dist-packages/docx/oxml/__init__.py\", line 28, in parse_xml\n",
            "    root_element = etree.fromstring(xml, oxml_parser)\n",
            "  File \"src/lxml/etree.pyx\", line 3257, in lxml.etree.fromstring\n",
            "  File \"src/lxml/parser.pxi\", line 1916, in lxml.etree._parseMemoryDocument\n",
            "  File \"src/lxml/parser.pxi\", line 1803, in lxml.etree._parseDoc\n",
            "  File \"src/lxml/parser.pxi\", line 1144, in lxml.etree._BaseParser._parseDoc\n",
            "  File \"src/lxml/parser.pxi\", line 618, in lxml.etree._ParserContext._handleParseResultDoc\n",
            "  File \"src/lxml/parser.pxi\", line 728, in lxml.etree._handleParseResult\n",
            "  File \"src/lxml/parser.pxi\", line 657, in lxml.etree._raiseParseError\n",
            "  File \"<string>\", line 1\n",
            "lxml.etree.XMLSyntaxError: Start tag expected, '<' not found, line 1, column 1\n",
            "\n",
            "Ошибка: Не удалось открыть файл: /content/data_dir/hacka-aka-embedika-2/docs/2d4708c800dc003466fa9a8a64e2e2b7.docx\n",
            " Traceback (most recent call last):\n",
            "  File \"<ipython-input-9-b112943da1f6>\", line 8, in read_docx_file\n",
            "    doc = docx.Document(docx_file_path)\n",
            "  File \"/usr/local/lib/python3.8/dist-packages/docx/api.py\", line 25, in Document\n",
            "    document_part = Package.open(docx).main_document_part\n",
            "  File \"/usr/local/lib/python3.8/dist-packages/docx/opc/package.py\", line 130, in open\n",
            "    Unmarshaller.unmarshal(pkg_reader, package, PartFactory)\n",
            "  File \"/usr/local/lib/python3.8/dist-packages/docx/opc/package.py\", line 198, in unmarshal\n",
            "    parts = Unmarshaller._unmarshal_parts(\n",
            "  File \"/usr/local/lib/python3.8/dist-packages/docx/opc/package.py\", line 215, in _unmarshal_parts\n",
            "    parts[partname] = part_factory(\n",
            "  File \"/usr/local/lib/python3.8/dist-packages/docx/opc/part.py\", line 191, in __new__\n",
            "    return PartClass.load(partname, content_type, blob, package)\n",
            "  File \"/usr/local/lib/python3.8/dist-packages/docx/opc/part.py\", line 231, in load\n",
            "    element = parse_xml(blob)\n",
            "  File \"/usr/local/lib/python3.8/dist-packages/docx/oxml/__init__.py\", line 28, in parse_xml\n",
            "    root_element = etree.fromstring(xml, oxml_parser)\n",
            "  File \"src/lxml/etree.pyx\", line 3257, in lxml.etree.fromstring\n",
            "  File \"src/lxml/parser.pxi\", line 1916, in lxml.etree._parseMemoryDocument\n",
            "  File \"src/lxml/parser.pxi\", line 1803, in lxml.etree._parseDoc\n",
            "  File \"src/lxml/parser.pxi\", line 1144, in lxml.etree._BaseParser._parseDoc\n",
            "  File \"src/lxml/parser.pxi\", line 618, in lxml.etree._ParserContext._handleParseResultDoc\n",
            "  File \"src/lxml/parser.pxi\", line 728, in lxml.etree._handleParseResult\n",
            "  File \"src/lxml/parser.pxi\", line 657, in lxml.etree._raiseParseError\n",
            "  File \"<string>\", line 1\n",
            "lxml.etree.XMLSyntaxError: Start tag expected, '<' not found, line 1, column 1\n",
            "\n",
            "Ошибка: Не удалось открыть файл: /content/data_dir/hacka-aka-embedika-2/docs/19e2becdb0f10e1c16a5a2460f3a84a2.pdf\n",
            " Traceback (most recent call last):\n",
            "  File \"<ipython-input-9-b112943da1f6>\", line 27, in read_pdf_file\n",
            "    pdf = PdfFileReader(filehandle)\n",
            "  File \"/usr/local/lib/python3.8/dist-packages/PyPDF2/_reader.py\", line 1971, in __init__\n",
            "    super().__init__(*args, **kwargs)\n",
            "  File \"/usr/local/lib/python3.8/dist-packages/PyPDF2/_reader.py\", line 317, in __init__\n",
            "    self.read(stream)\n",
            "  File \"/usr/local/lib/python3.8/dist-packages/PyPDF2/_reader.py\", line 1416, in read\n",
            "    raise PdfReadError(\"Broken xref table\")\n",
            "PyPDF2.errors.PdfReadError: Broken xref table\n",
            "\n",
            "Ошибка: Не удалось открыть файл: /content/data_dir/hacka-aka-embedika-2/docs/81a64023bdb74032827385d43181ea3a.pdf\n",
            " Traceback (most recent call last):\n",
            "  File \"<ipython-input-9-b112943da1f6>\", line 27, in read_pdf_file\n",
            "    pdf = PdfFileReader(filehandle)\n",
            "  File \"/usr/local/lib/python3.8/dist-packages/PyPDF2/_reader.py\", line 1971, in __init__\n",
            "    super().__init__(*args, **kwargs)\n",
            "  File \"/usr/local/lib/python3.8/dist-packages/PyPDF2/_reader.py\", line 317, in __init__\n",
            "    self.read(stream)\n",
            "  File \"/usr/local/lib/python3.8/dist-packages/PyPDF2/_reader.py\", line 1416, in read\n",
            "    raise PdfReadError(\"Broken xref table\")\n",
            "PyPDF2.errors.PdfReadError: Broken xref table\n",
            "\n",
            "text             6\n",
            "label            0\n",
            "doc_file_name    0\n",
            "dtype: int64\n"
          ]
        }
      ]
    },
    {
      "cell_type": "code",
      "source": [
        "loaded_df = pd.read_csv('/content/text_data.csv')\n",
        "loaded_df"
      ],
      "metadata": {
        "colab": {
          "base_uri": "https://localhost:8080/",
          "height": 424
        },
        "id": "dtPYv8SqGx_L",
        "outputId": "47230751-2210-43cf-9283-e452a1ba47b2"
      },
      "execution_count": 13,
      "outputs": [
        {
          "output_type": "execute_result",
          "data": {
            "text/plain": [
              "                                                  text  \\\n",
              "0    \\nДоговор возмездного оказания услуг № {НомерД...   \n",
              "1    \\nДОГОВОР \\n\\n№ ______ от «___» ___________ __...   \n",
              "2    \\nДоговор \\n \\nг. Новосибирск                 ...   \n",
              "3    \\nДоговор  № {НомерДокумента}\\n{НазваниеКонтр}...   \n",
              "4    \\nУтверждена\\nприказом Министерства образовани...   \n",
              "..                                                 ...   \n",
              "106  \\nДОГОВОР ПОСТАВКИ № _________________________...   \n",
              "107  \\n(Типовая форма)  \\nДОГОВОР КУПЛИ -ПРОДАЖИ №_...   \n",
              "108  \\n1 \\n \\n ДОГОВОР ОКАЗАНИЯ УСЛУГ № __/________...   \n",
              "109  \\nДОГОВОР № \\nкупли-продажи\\nг. Москва        ...   \n",
              "110  \\n \\n  ДОГОВОР ПОСТАВКИ № 1 г. Москва         ...   \n",
              "\n",
              "                                                 label  \\\n",
              "0    Договоры для акселератора/Договоры оказания услуг   \n",
              "1           Договоры для акселератора/Договоры подряда   \n",
              "2     Договоры для акселератора/Договоры купли-продажи   \n",
              "3          Договоры для акселератора/Договоры поставки   \n",
              "4    Договоры для акселератора/Договоры оказания услуг   \n",
              "..                                                 ...   \n",
              "106        Договоры для акселератора/Договоры поставки   \n",
              "107   Договоры для акселератора/Договоры купли-продажи   \n",
              "108  Договоры для акселератора/Договоры оказания услуг   \n",
              "109   Договоры для акселератора/Договоры купли-продажи   \n",
              "110        Договоры для акселератора/Договоры поставки   \n",
              "\n",
              "                             doc_file_name  \n",
              "0    317e4552102e82bd9e17ba1205cd4367.docx  \n",
              "1    03a70fe60be9ecc2a63798a361fc9689.docx  \n",
              "2    8c5ce9a193c788cadf94ddec5607f3b4.docx  \n",
              "3    84fec112d02288861e7af59f468131fb.docx  \n",
              "4    0b4be82b86eff410d69d1d6b5553d220.docx  \n",
              "..                                     ...  \n",
              "106   214d620d9c54bc83111277dd872d3cb2.pdf  \n",
              "107   086ad48895d2a73854b6151decc28800.pdf  \n",
              "108   736cc87395089b9611b0db70d2999d75.pdf  \n",
              "109   4a5707e447271a188a1211606b158a94.pdf  \n",
              "110   b40a9d048b199d5f4db62a6a2335f2a0.pdf  \n",
              "\n",
              "[111 rows x 3 columns]"
            ],
            "text/html": [
              "\n",
              "  <div id=\"df-ab4b157b-065d-4648-870a-d6aa8bdbf48e\">\n",
              "    <div class=\"colab-df-container\">\n",
              "      <div>\n",
              "<style scoped>\n",
              "    .dataframe tbody tr th:only-of-type {\n",
              "        vertical-align: middle;\n",
              "    }\n",
              "\n",
              "    .dataframe tbody tr th {\n",
              "        vertical-align: top;\n",
              "    }\n",
              "\n",
              "    .dataframe thead th {\n",
              "        text-align: right;\n",
              "    }\n",
              "</style>\n",
              "<table border=\"1\" class=\"dataframe\">\n",
              "  <thead>\n",
              "    <tr style=\"text-align: right;\">\n",
              "      <th></th>\n",
              "      <th>text</th>\n",
              "      <th>label</th>\n",
              "      <th>doc_file_name</th>\n",
              "    </tr>\n",
              "  </thead>\n",
              "  <tbody>\n",
              "    <tr>\n",
              "      <th>0</th>\n",
              "      <td>\\nДоговор возмездного оказания услуг № {НомерД...</td>\n",
              "      <td>Договоры для акселератора/Договоры оказания услуг</td>\n",
              "      <td>317e4552102e82bd9e17ba1205cd4367.docx</td>\n",
              "    </tr>\n",
              "    <tr>\n",
              "      <th>1</th>\n",
              "      <td>\\nДОГОВОР \\n\\n№ ______ от «___» ___________ __...</td>\n",
              "      <td>Договоры для акселератора/Договоры подряда</td>\n",
              "      <td>03a70fe60be9ecc2a63798a361fc9689.docx</td>\n",
              "    </tr>\n",
              "    <tr>\n",
              "      <th>2</th>\n",
              "      <td>\\nДоговор \\n \\nг. Новосибирск                 ...</td>\n",
              "      <td>Договоры для акселератора/Договоры купли-продажи</td>\n",
              "      <td>8c5ce9a193c788cadf94ddec5607f3b4.docx</td>\n",
              "    </tr>\n",
              "    <tr>\n",
              "      <th>3</th>\n",
              "      <td>\\nДоговор  № {НомерДокумента}\\n{НазваниеКонтр}...</td>\n",
              "      <td>Договоры для акселератора/Договоры поставки</td>\n",
              "      <td>84fec112d02288861e7af59f468131fb.docx</td>\n",
              "    </tr>\n",
              "    <tr>\n",
              "      <th>4</th>\n",
              "      <td>\\nУтверждена\\nприказом Министерства образовани...</td>\n",
              "      <td>Договоры для акселератора/Договоры оказания услуг</td>\n",
              "      <td>0b4be82b86eff410d69d1d6b5553d220.docx</td>\n",
              "    </tr>\n",
              "    <tr>\n",
              "      <th>...</th>\n",
              "      <td>...</td>\n",
              "      <td>...</td>\n",
              "      <td>...</td>\n",
              "    </tr>\n",
              "    <tr>\n",
              "      <th>106</th>\n",
              "      <td>\\nДОГОВОР ПОСТАВКИ № _________________________...</td>\n",
              "      <td>Договоры для акселератора/Договоры поставки</td>\n",
              "      <td>214d620d9c54bc83111277dd872d3cb2.pdf</td>\n",
              "    </tr>\n",
              "    <tr>\n",
              "      <th>107</th>\n",
              "      <td>\\n(Типовая форма)  \\nДОГОВОР КУПЛИ -ПРОДАЖИ №_...</td>\n",
              "      <td>Договоры для акселератора/Договоры купли-продажи</td>\n",
              "      <td>086ad48895d2a73854b6151decc28800.pdf</td>\n",
              "    </tr>\n",
              "    <tr>\n",
              "      <th>108</th>\n",
              "      <td>\\n1 \\n \\n ДОГОВОР ОКАЗАНИЯ УСЛУГ № __/________...</td>\n",
              "      <td>Договоры для акселератора/Договоры оказания услуг</td>\n",
              "      <td>736cc87395089b9611b0db70d2999d75.pdf</td>\n",
              "    </tr>\n",
              "    <tr>\n",
              "      <th>109</th>\n",
              "      <td>\\nДОГОВОР № \\nкупли-продажи\\nг. Москва        ...</td>\n",
              "      <td>Договоры для акселератора/Договоры купли-продажи</td>\n",
              "      <td>4a5707e447271a188a1211606b158a94.pdf</td>\n",
              "    </tr>\n",
              "    <tr>\n",
              "      <th>110</th>\n",
              "      <td>\\n \\n  ДОГОВОР ПОСТАВКИ № 1 г. Москва         ...</td>\n",
              "      <td>Договоры для акселератора/Договоры поставки</td>\n",
              "      <td>b40a9d048b199d5f4db62a6a2335f2a0.pdf</td>\n",
              "    </tr>\n",
              "  </tbody>\n",
              "</table>\n",
              "<p>111 rows × 3 columns</p>\n",
              "</div>\n",
              "      <button class=\"colab-df-convert\" onclick=\"convertToInteractive('df-ab4b157b-065d-4648-870a-d6aa8bdbf48e')\"\n",
              "              title=\"Convert this dataframe to an interactive table.\"\n",
              "              style=\"display:none;\">\n",
              "        \n",
              "  <svg xmlns=\"http://www.w3.org/2000/svg\" height=\"24px\"viewBox=\"0 0 24 24\"\n",
              "       width=\"24px\">\n",
              "    <path d=\"M0 0h24v24H0V0z\" fill=\"none\"/>\n",
              "    <path d=\"M18.56 5.44l.94 2.06.94-2.06 2.06-.94-2.06-.94-.94-2.06-.94 2.06-2.06.94zm-11 1L8.5 8.5l.94-2.06 2.06-.94-2.06-.94L8.5 2.5l-.94 2.06-2.06.94zm10 10l.94 2.06.94-2.06 2.06-.94-2.06-.94-.94-2.06-.94 2.06-2.06.94z\"/><path d=\"M17.41 7.96l-1.37-1.37c-.4-.4-.92-.59-1.43-.59-.52 0-1.04.2-1.43.59L10.3 9.45l-7.72 7.72c-.78.78-.78 2.05 0 2.83L4 21.41c.39.39.9.59 1.41.59.51 0 1.02-.2 1.41-.59l7.78-7.78 2.81-2.81c.8-.78.8-2.07 0-2.86zM5.41 20L4 18.59l7.72-7.72 1.47 1.35L5.41 20z\"/>\n",
              "  </svg>\n",
              "      </button>\n",
              "      \n",
              "  <style>\n",
              "    .colab-df-container {\n",
              "      display:flex;\n",
              "      flex-wrap:wrap;\n",
              "      gap: 12px;\n",
              "    }\n",
              "\n",
              "    .colab-df-convert {\n",
              "      background-color: #E8F0FE;\n",
              "      border: none;\n",
              "      border-radius: 50%;\n",
              "      cursor: pointer;\n",
              "      display: none;\n",
              "      fill: #1967D2;\n",
              "      height: 32px;\n",
              "      padding: 0 0 0 0;\n",
              "      width: 32px;\n",
              "    }\n",
              "\n",
              "    .colab-df-convert:hover {\n",
              "      background-color: #E2EBFA;\n",
              "      box-shadow: 0px 1px 2px rgba(60, 64, 67, 0.3), 0px 1px 3px 1px rgba(60, 64, 67, 0.15);\n",
              "      fill: #174EA6;\n",
              "    }\n",
              "\n",
              "    [theme=dark] .colab-df-convert {\n",
              "      background-color: #3B4455;\n",
              "      fill: #D2E3FC;\n",
              "    }\n",
              "\n",
              "    [theme=dark] .colab-df-convert:hover {\n",
              "      background-color: #434B5C;\n",
              "      box-shadow: 0px 1px 3px 1px rgba(0, 0, 0, 0.15);\n",
              "      filter: drop-shadow(0px 1px 2px rgba(0, 0, 0, 0.3));\n",
              "      fill: #FFFFFF;\n",
              "    }\n",
              "  </style>\n",
              "\n",
              "      <script>\n",
              "        const buttonEl =\n",
              "          document.querySelector('#df-ab4b157b-065d-4648-870a-d6aa8bdbf48e button.colab-df-convert');\n",
              "        buttonEl.style.display =\n",
              "          google.colab.kernel.accessAllowed ? 'block' : 'none';\n",
              "\n",
              "        async function convertToInteractive(key) {\n",
              "          const element = document.querySelector('#df-ab4b157b-065d-4648-870a-d6aa8bdbf48e');\n",
              "          const dataTable =\n",
              "            await google.colab.kernel.invokeFunction('convertToInteractive',\n",
              "                                                     [key], {});\n",
              "          if (!dataTable) return;\n",
              "\n",
              "          const docLinkHtml = 'Like what you see? Visit the ' +\n",
              "            '<a target=\"_blank\" href=https://colab.research.google.com/notebooks/data_table.ipynb>data table notebook</a>'\n",
              "            + ' to learn more about interactive tables.';\n",
              "          element.innerHTML = '';\n",
              "          dataTable['output_type'] = 'display_data';\n",
              "          await google.colab.output.renderOutput(dataTable, element);\n",
              "          const docLink = document.createElement('div');\n",
              "          docLink.innerHTML = docLinkHtml;\n",
              "          element.appendChild(docLink);\n",
              "        }\n",
              "      </script>\n",
              "    </div>\n",
              "  </div>\n",
              "  "
            ]
          },
          "metadata": {},
          "execution_count": 13
        }
      ]
    }
  ]
}